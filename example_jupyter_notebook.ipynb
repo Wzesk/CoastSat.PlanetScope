{
 "cells": [
  {
   "cell_type": "markdown",
   "id": "effective-bottom",
   "metadata": {},
   "source": [
    "## *CoastSat.PlanetScope*: Example at Narrabeen-Collaroy, Australia\n",
    "\n",
    "This notebook shows how to use this toolbox to map shorelines on PlanetScope imagery and extract time-series.\n",
    "\n",
    "The workdlow is divided in three main steps:\n",
    "1. Image pre-processing (cropping, merging, covnversion to TOA, co-registration)\n",
    "2. Shoreline mapping\n",
    "3. Intersection with cross-shore transects and tidal correction\n",
    "\n",
    "The approximate times on a standard laptop for ~1000 images over an area of 10 sqkm are:\n",
    "- 20 min for image pre-processing\n",
    "- 2.5 hrs for co-registration\n",
    "- 35 min to merge the images\n",
    "- 1 hr for image classification\n",
    "- 1 hr for shoreline extraction\n",
    "\n",
    "This notebook shows a short example with 36 images.\n",
    "\n",
    "### Initial settings\n",
    "\n",
    "Refer to the **Installation** section of the README for instructions on how to install the Python packages necessary to run the software.  If that step has been completed correctly, the following packages should be imported without any problem."
   ]
  },
  {
   "cell_type": "code",
   "execution_count": 1,
   "id": "bibliographic-finger",
   "metadata": {},
   "outputs": [],
   "source": [
    "# load coastsat modules\n",
    "import os\n",
    "from coastsat_ps.data_import import initialise_settings\n",
    "from coastsat_ps.extract_shoreline import extract_shorelines, compute_intersection\n",
    "from coastsat_ps.interactive import filter_shorelines                    \n",
    "from coastsat_ps.preprocess import (data_extract, pre_process, select_ref_image, \n",
    "                                    add_ref_features)\n",
    "from coastsat_ps.postprocess import tidal_correction, ts_plot_single"
   ]
  },
  {
   "cell_type": "markdown",
   "id": "latest-optics",
   "metadata": {},
   "source": [
    "### User inputs and general settings\n",
    "\n",
    "The README file also explains how to create the 3 input files that are necessary to run the toolbox at a site:\n",
    "-\ta polygon with the area of interest [as .KML]\n",
    "-\ta transects file [as .GEOJSON]\n",
    "-\ttide data with time in UTC and water level in m AMSL [as .CSV]\n",
    "\n",
    "These should be saved in the */user_inputs* subfolder, example files for Narrabeen are provided.\n",
    "\n",
    "![Capture](https://user-images.githubusercontent.com/7217258/154614213-a08fd6ef-88e5-45b3-9be3-8cf203e87087.JPG)"
   ]
  },
  {
   "cell_type": "markdown",
   "id": "boring-apartment",
   "metadata": {},
   "source": [
    "Once these files are ready, users can set up their settings in the dictionary below. Also provide the full path to the downloaded imagery.\n",
    "\n",
    "⚠️ Note that the ‘GDAL_location’ field may vary depending on the OS system, for Windows and Anaconda it should be something like `r'C:\\ProgramData\\Anaconda3\\envs\\coastsat_ps\\Library\\bin'`\n",
    "\n",
    "Some more advanced settings are hard-coded in the  `data_import.py ` module."
   ]
  },
  {
   "cell_type": "code",
   "execution_count": 2,
   "id": "million-burton",
   "metadata": {},
   "outputs": [
    {
     "name": "stdout",
     "output_type": "stream",
     "text": [
      "5 transects have been loaded\n",
      "\r",
      "Updating Dictionary 0.69%     \r",
      "Updating Dictionary 1.39%     \r",
      "Updating Dictionary 2.08%     \r",
      "Updating Dictionary 2.78%     \r",
      "Updating Dictionary 3.47%     \r",
      "Updating Dictionary 4.17%     \r",
      "Updating Dictionary 4.86%     \r",
      "Updating Dictionary 5.56%     \r",
      "Updating Dictionary 6.25%     \r",
      "Updating Dictionary 6.94%     \r",
      "Updating Dictionary 7.64%     \r",
      "Updating Dictionary 8.33%     \r",
      "Updating Dictionary 9.03%     \r",
      "Updating Dictionary 9.72%     \r",
      "Updating Dictionary 10.42%     \r",
      "Updating Dictionary 11.11%     \r",
      "Updating Dictionary 11.81%     \r",
      "Updating Dictionary 12.5%     \r",
      "Updating Dictionary 13.19%     \r",
      "Updating Dictionary 13.89%     \r",
      "Updating Dictionary 14.58%     \r",
      "Updating Dictionary 15.28%     \r",
      "Updating Dictionary 15.97%     \r",
      "Updating Dictionary 16.67%     \r",
      "Updating Dictionary 17.36%     \r",
      "Updating Dictionary 18.06%     \r",
      "Updating Dictionary 18.75%     \r",
      "Updating Dictionary 19.44%     \r",
      "Updating Dictionary 20.14%     \r",
      "Updating Dictionary 20.83%     \r",
      "Updating Dictionary 21.53%     \r",
      "Updating Dictionary 22.22%     \r",
      "Updating Dictionary 22.92%     \r",
      "Updating Dictionary 23.61%     \r",
      "Updating Dictionary 24.31%     \r",
      "Updating Dictionary 25.0%     \r",
      "Updating Dictionary 25.69%     \r",
      "Updating Dictionary 26.39%     \r",
      "Updating Dictionary 27.08%     \r",
      "Updating Dictionary 27.78%     \r",
      "Updating Dictionary 28.47%     \r",
      "Updating Dictionary 29.17%     \r",
      "Updating Dictionary 29.86%     \r",
      "Updating Dictionary 30.56%     \r",
      "Updating Dictionary 31.25%     \r",
      "Updating Dictionary 31.94%     \r",
      "Updating Dictionary 32.64%     \r",
      "Updating Dictionary 33.33%     \r",
      "Updating Dictionary 34.03%     \r",
      "Updating Dictionary 34.72%     \r",
      "Updating Dictionary 35.42%     \r",
      "Updating Dictionary 36.11%     \r",
      "Updating Dictionary 36.81%     \r",
      "Updating Dictionary 37.5%     \r",
      "Updating Dictionary 38.19%     \r",
      "Updating Dictionary 38.89%     \r",
      "Updating Dictionary 39.58%     \r",
      "Updating Dictionary 40.28%     \r",
      "Updating Dictionary 40.97%     \r",
      "Updating Dictionary 41.67%     \r",
      "Updating Dictionary 42.36%     \r",
      "Updating Dictionary 43.06%     \r",
      "Updating Dictionary 43.75%     \r",
      "Updating Dictionary 44.44%     \r",
      "Updating Dictionary 45.14%     \r",
      "Updating Dictionary 45.83%     \r",
      "Updating Dictionary 46.53%     \r",
      "Updating Dictionary 47.22%     \r",
      "Updating Dictionary 47.92%     \r",
      "Updating Dictionary 48.61%     \r",
      "Updating Dictionary 49.31%     \r",
      "Updating Dictionary 50.0%     \r",
      "Updating Dictionary 50.69%     \r",
      "Updating Dictionary 51.39%     \r",
      "Updating Dictionary 52.08%     \r",
      "Updating Dictionary 52.78%     \r",
      "Updating Dictionary 53.47%     \r",
      "Updating Dictionary 54.17%     \r",
      "Updating Dictionary 54.86%     \r",
      "Updating Dictionary 55.56%     \r",
      "Updating Dictionary 56.25%     \r",
      "Updating Dictionary 56.94%     \r",
      "Updating Dictionary 57.64%     \r",
      "Updating Dictionary 58.33%     \r",
      "Updating Dictionary 59.03%     \r",
      "Updating Dictionary 59.72%     \r",
      "Updating Dictionary 60.42%     \r",
      "Updating Dictionary 61.11%     \r",
      "Updating Dictionary 61.81%     \r",
      "Updating Dictionary 62.5%     \r",
      "Updating Dictionary 63.19%     \r",
      "Updating Dictionary 63.89%     \r",
      "Updating Dictionary 64.58%     \r",
      "Updating Dictionary 65.28%     \r",
      "Updating Dictionary 65.97%     \r",
      "Updating Dictionary 66.67%     \r",
      "Updating Dictionary 67.36%     \r",
      "Updating Dictionary 68.06%     \r",
      "Updating Dictionary 68.75%     \r",
      "Updating Dictionary 69.44%     \r",
      "Updating Dictionary 70.14%     \r",
      "Updating Dictionary 70.83%     \r",
      "Updating Dictionary 71.53%     \r",
      "Updating Dictionary 72.22%     \r",
      "Updating Dictionary 72.92%     \r",
      "Updating Dictionary 73.61%     \r",
      "Updating Dictionary 74.31%     \r",
      "Updating Dictionary 75.0%     \r",
      "Updating Dictionary 75.69%     \r",
      "Updating Dictionary 76.39%     \r",
      "Updating Dictionary 77.08%     \r",
      "Updating Dictionary 77.78%     \r",
      "Updating Dictionary 78.47%     \r",
      "Updating Dictionary 79.17%     \r",
      "Updating Dictionary 79.86%     \r",
      "Updating Dictionary 80.56%     \r",
      "Updating Dictionary 81.25%     \r",
      "Updating Dictionary 81.94%     \r",
      "Updating Dictionary 82.64%     \r",
      "Updating Dictionary 83.33%     \r",
      "Updating Dictionary 84.03%     \r",
      "Updating Dictionary 84.72%     \r",
      "Updating Dictionary 85.42%     \r",
      "Updating Dictionary 86.11%     \r",
      "Updating Dictionary 86.81%     \r",
      "Updating Dictionary 87.5%     \r",
      "Updating Dictionary 88.19%     \r",
      "Updating Dictionary 88.89%     \r",
      "Updating Dictionary 89.58%     \r",
      "Updating Dictionary 90.28%     \r",
      "Updating Dictionary 90.97%     \r",
      "Updating Dictionary 91.67%     \r",
      "Updating Dictionary 92.36%     \r",
      "Updating Dictionary 93.06%     \r",
      "Updating Dictionary 93.75%     \r",
      "Updating Dictionary 94.44%     \r",
      "Updating Dictionary 95.14%     \r",
      "Updating Dictionary 95.83%     \r",
      "Updating Dictionary 96.53%     \r",
      "Updating Dictionary 97.22%     \r",
      "Updating Dictionary 97.92%     \r",
      "Updating Dictionary 98.61%     \r",
      "Updating Dictionary 99.31%     \r",
      "Updating Dictionary 100.0%     \n",
      "    36 images found over 21 dates\n"
     ]
    }
   ],
   "source": [
    "settings = {\n",
    "    \n",
    "    ### General Settings ###\n",
    "    # Site name (for output folder and files) \n",
    "    'site_name': 'NARRA',\n",
    "    # Maximum image cloud cover percentage threshold\n",
    "    'cloud_threshold': 10, # Default 10\n",
    "    # Minimum image AOI cover percentage threshold\n",
    "    'extent_thresh': 80, # Default 80\n",
    "    # Desired output shoreline epsg\n",
    "    'output_epsg': '28356',\n",
    "    \n",
    "    \n",
    "    ### Reference files (in \"...CoastSat.PlanetScope/user_inputs/\") ###\n",
    "    # Area of interest file (save as .kml file from geojson.io website)\n",
    "    'aoi_kml': 'NARRA_polygon.kml',\n",
    "    # Transects in geojson file (ensure same epsg as output_epsg)\n",
    "    'transects': 'NARRA_transects.geojson', # False\n",
    "        # If False boolean given, popup window will allow for manual drawing of transects\n",
    "    # Tide csv file in MSL and UTC \n",
    "    'tide_data': 'NARRA_tides.csv',\n",
    "    # Local folder planet imagery downloads location (provide full folder path)\n",
    "    'downloads_folder': os.path.join(os.getcwd(),'Narrabeen_images_PSScene4Band','files'),\n",
    "\n",
    "\n",
    "    ### Processing settings ###\n",
    "    # Machine learning classifier filename (in \"...CoastSat.PlanetScope/classifier/models\")\n",
    "        # A new classifier may be re-trained after step 1.3. Refer \"...CoastSat.PlanetScope/classifier/train_new_classifier.py\" for instructions. \n",
    "    'classifier': 'NN_4classes_PS_NARRA.pkl',\n",
    "    # Image co-registration choice ['Coreg Off', 'Local Coreg', 'Global Coreg']\n",
    "    'im_coreg': 'Coreg Off', # refer https://pypi.org/project/arosics/ for details on Local vs Global coreg. Local recommended but slower. \n",
    "\n",
    "\n",
    "    ### Advanced settings ###\n",
    "    # Buffer size around masked cloud pixels [in metres]\n",
    "    'cloud_buffer': 9, # Default 9 (3 pixels)  \n",
    "    # Max distance from reference shoreline for valid shoreline [in metres]\n",
    "    'max_dist_ref': 75, # Default 75\n",
    "    # Minimum area (m^2) for an object to be labelled as a beach\n",
    "    'min_beach_area': 150*150, # Default 22500\n",
    "    # Minimum length for identified contour line to be saved as a shoreline [in metres]\n",
    "    'min_length_sl': 500, # Default 500 \n",
    "    # GDAL location setting (Update path to match GDAL path. Update 'coastsat_ps' to chosen environment name. Example provided is for mac)\n",
    "    'GDAL_location': r'C:\\ProgramData\\Anaconda3\\envs\\coastsat_ps\\Library\\bin',\n",
    "    # for Windows\n",
    "    # 'GDAL_location': r'C:\\ProgramData\\Anaconda3\\envs\\coastsat_ps\\Library\\bin',\n",
    "    \n",
    "    #### Additional advanced Settings can be found in \"...CoastSat.PlanetScope/coastsat_ps/data_import.py\"\n",
    "    \n",
    "    }\n",
    "\n",
    "\n",
    "# Import data and updade settings based on user input\n",
    "outputs = initialise_settings(settings)"
   ]
  },
  {
   "cell_type": "markdown",
   "id": "consistent-potter",
   "metadata": {},
   "source": [
    "### 1. Image Preprocessing\n",
    "\n",
    "There are 3 preprocessing steps:\n",
    "- Conversion to Top of Atmosphere (TOA) and image masking (clouds and non usable pixels)\n",
    "- Co-registration (if turned on)\n",
    "- Scene merging\n",
    "\n",
    "#### 1.1. Conversion to TOA and image masking\n",
    "\n",
    "This part converts Digital Numbers to TOA (Top-of-Atmosphere) and extracts the UDMs (Unusable Data Masks) for each image in the folder. The preprocessed images are saved under */outputs/SITENAME/toa_image_data/raw_data*. For each image there are 3 .tif files, the TOA image, a binary cloud mask and a binary NaN mask."
   ]
  },
  {
   "cell_type": "code",
   "execution_count": 3,
   "id": "imported-format",
   "metadata": {},
   "outputs": [
    {
     "name": "stdout",
     "output_type": "stream",
     "text": [
      "Converting image 36 of 36 to TOA (100%)\n",
      "    36 images converted to TOA in 7 seconds\n",
      "\n",
      "Extracting masks for image 36 of 36\n",
      "    36 masks extracted in 19 seconds\n",
      "        36 udm masks extracted\n",
      "        0 udm2 masks extracted\n",
      "\n",
      "Total Data Extraction run time = 26 seconds (0.44) minutes\n"
     ]
    }
   ],
   "source": [
    "data_extract(settings, outputs)"
   ]
  },
  {
   "cell_type": "markdown",
   "id": "studied-league",
   "metadata": {},
   "source": [
    "#### 1.2. Select reference image for co-registration\n",
    "\n",
    "The user can choose one image that will be used to align all the others in the next step, make sure this image is cloud free."
   ]
  },
  {
   "cell_type": "code",
   "execution_count": 4,
   "id": "scheduled-intensity",
   "metadata": {},
   "outputs": [
    {
     "name": "stdout",
     "output_type": "stream",
     "text": [
      "No reference image required for image co-registration = False\n"
     ]
    }
   ],
   "source": [
    "select_ref_image(settings)"
   ]
  },
  {
   "cell_type": "markdown",
   "id": "hydraulic-topic",
   "metadata": {},
   "source": [
    "#### 1.3. Image co-registration and scene merging\n",
    "\n",
    "When preprocessing the images in this step, there is the option to delete the intermediate co-registration files to save memory.\n",
    "\n",
    "⚠️ Note that a \"Failed to delete GEOS geom\" error message may appear in console during co-registration, but this does not impact the algorithm.\n"
   ]
  },
  {
   "cell_type": "code",
   "execution_count": 5,
   "id": "earlier-classification",
   "metadata": {},
   "outputs": [
    {
     "name": "stdout",
     "output_type": "stream",
     "text": [
      "Co-registration step skipped\n",
      "\n",
      "Total co-registration run time = 0 seconds (0.0) minutes\n",
      "\n",
      "21 of 21 Dates Processed (15 images merged, 6 images cropped)\n",
      "    33 seconds to process 36 images\n",
      "    21 scenes output from 36 images\n",
      "    max image merge time difference = 1.0 seconds\n",
      "\n",
      "Filtering image 21 of 21\n",
      "\n",
      "21 of 21 scenes passed cloud and area criteria\n",
      "    0 files covered < 80 % of the AOI\n",
      "    0 files had cloud coverage > 10 %\n",
      "\n",
      "21 dates remain from 21 \n",
      "\n",
      "Total image merge run time = 45 seconds (0.76) minutes\n",
      "\n",
      "Total Pre-Processing run time = 45 seconds (0.76) minutes\n",
      "\n"
     ]
    }
   ],
   "source": [
    "# del_files_int = True will delete intermediate coregistration files to save space\n",
    "pre_process(settings, outputs, del_files_int = True)"
   ]
  },
  {
   "cell_type": "markdown",
   "id": "neutral-frost",
   "metadata": {},
   "source": [
    "### 2. Extract shorelines\n",
    "\n",
    "First the user has to select a cloud-free image and digitise a reference shoreline."
   ]
  },
  {
   "cell_type": "code",
   "execution_count": null,
   "id": "oriental-parent",
   "metadata": {},
   "outputs": [],
   "source": [
    "%matplotlib qt\n",
    "add_ref_features(settings)\n",
    "%matplotlib inline"
   ]
  },
  {
   "cell_type": "markdown",
   "id": "disciplinary-business",
   "metadata": {},
   "source": [
    "![Figure_1](https://user-images.githubusercontent.com/7217258/154613508-f792c141-7965-4b30-ac10-e8c055eeff63.png)"
   ]
  },
  {
   "cell_type": "markdown",
   "id": "defined-mentor",
   "metadata": {},
   "source": [
    "Extract shorelines automatically with the current settings."
   ]
  },
  {
   "cell_type": "code",
   "execution_count": 7,
   "id": "planned-farming",
   "metadata": {
    "scrolled": true
   },
   "outputs": [
    {
     "name": "stdout",
     "output_type": "stream",
     "text": [
      "Classifying images for date 21 of 21 (1m 23s  elapsed)\n",
      "Updating output dictionary...\n",
      "Extracting shoreline for date 21 of 21 (1m 13s  elapsed)\n",
      "    Saving shorelines to pkl and geojson\n"
     ]
    }
   ],
   "source": [
    "shoreline_data = extract_shorelines(outputs, settings,                         \n",
    "        # del_index = True will delete water index .tif files once used to save space\n",
    "        del_index = False, \n",
    "        # reclassify = True will reclassify images if they have been classified previously\n",
    "            # useful when running again with a new classifier\n",
    "            # use False to save time on re-runs with the same classifier to save processing time\n",
    "        reclassify = False)"
   ]
  },
  {
   "attachments": {},
   "cell_type": "markdown",
   "id": "psychological-motion",
   "metadata": {},
   "source": [
    "The outputs from the shoreline detection are located at */outputs/SITENAME/shoreline outputs* and include: \n",
    "- a .geojson file with all the 2D shorelines as a geospatial layer, ready to be imported in a GIS environment (note that these are not tidally-corrected)\n",
    "- plots with all the satellite images and detected shorelines saved as .jpg in the */Shoreline plots* subfolder.\n",
    "\n",
    "![Narrabeen_PL](https://user-images.githubusercontent.com/7217258/154615447-0f6c9473-cfc1-4909-86ed-e98fa0543b75.gif)"
   ]
  },
  {
   "cell_type": "markdown",
   "id": "animated-raise",
   "metadata": {},
   "source": [
    "### 3. Manual Quality Control of the shorelines\n",
    "\n",
    "In this step the user can manually select or reject the detected shorelines. This procedure saves a .csv file in */outputs/SITENAME/shoreline outputs* indicating which images were kept and discarded.\n",
    "\n",
    "Note that the classifier located in /coastsat_ps/classifier/models and was trained on Narrabeen pixels. However, there is a script to retrain the classifier for another site if necessary, `train_new_classifier.py`."
   ]
  },
  {
   "cell_type": "code",
   "execution_count": 8,
   "id": "optical-regression",
   "metadata": {},
   "outputs": [
    {
     "name": "stdout",
     "output_type": "stream",
     "text": [
      "Manual shoreline filtering complete\n",
      "21 images kept\n",
      "0 images discarded\n",
      "\n"
     ]
    }
   ],
   "source": [
    "# Option 1:\n",
    "    # manual_filter & load_csv = False\n",
    "        # All images pass, creates a csv in the outputs folder\n",
    "            # \"...CoastSat.PlanetScope/outputs/SITE/shoreline outputs/COREG/NmB/Peak Fraction/shoreline_filter.csv\"\n",
    "\n",
    "# Option 2:\n",
    "    # manual_filter = True & load_csv = False    \n",
    "        # popup window to keep or discard images (saves choices as a csv)\n",
    "\n",
    "# Option 3:\n",
    "    # manual_filter = False & load_csv = True\n",
    "        # loads and applies the csv saved from option 1 or 2\n",
    "        # This file can be manually updated if desired with a text editor\n",
    "         \n",
    "shoreline_data = filter_shorelines(settings, manual_filter = True, load_csv = False)"
   ]
  },
  {
   "cell_type": "markdown",
   "id": "logical-westminster",
   "metadata": {},
   "source": [
    "### 4.  Compute intersections between shorelines and transects\n",
    "\n",
    "The time-series of shoreline change are saved at */outputs/SITENAME/shoreline outputs* in a .csv file."
   ]
  },
  {
   "cell_type": "code",
   "execution_count": 9,
   "id": "helpful-potential",
   "metadata": {},
   "outputs": [
    {
     "name": "stdout",
     "output_type": "stream",
     "text": [
      "Calculating shoreline intersections...\n"
     ]
    }
   ],
   "source": [
    "sl_csv = compute_intersection(shoreline_data, settings)"
   ]
  },
  {
   "cell_type": "markdown",
   "id": "suspended-service",
   "metadata": {},
   "source": [
    "### 5. TIdal correction\n",
    "\n",
    "The tidally-corrected time-series of shoreline change are also saved at */outputs/SITENAME/shoreline outputs* in a .csv file."
   ]
  },
  {
   "cell_type": "code",
   "execution_count": 10,
   "id": "innocent-wound",
   "metadata": {},
   "outputs": [
    {
     "name": "stdout",
     "output_type": "stream",
     "text": [
      "Extracting closest tide to PS timestamps: 100%"
     ]
    }
   ],
   "source": [
    "tide_settings = {\n",
    "    # select beach slope as a generic value, or list of values corresponding to each transect\n",
    "    # Transect specific beach slope values can be extracted with the CoastSat beach slope tool https://github.com/kvos/CoastSat.slope\n",
    "    'beach_slope': [0.085, 0.075, 0.08, 0.08, 0.1], #0.1\n",
    "    \n",
    "    # Reference elevation contour\n",
    "    'contour': 0.7,\n",
    "    # Tidal correction weighting\n",
    "    'weighting': 1,\n",
    "    # Offset correction (+ve value corrects sl seaward, ie. increases chainage)\n",
    "    'offset': 0,\n",
    "    \n",
    "    # Date filter (minimum)\n",
    "    'date_min':'2016-01-01',\n",
    "    # Date filter (maximum)\n",
    "    'date_max':'2021-01-01' \n",
    "    }\n",
    "\n",
    "sl_csv_tide = tidal_correction(settings, tide_settings, sl_csv)"
   ]
  },
  {
   "cell_type": "markdown",
   "id": "designed-forum",
   "metadata": {},
   "source": [
    "### 6. Plot the time-series\n",
    "\n",
    "There is a built-in function to generate plots with the shoreline time-series along the transects. The figures are saved as .jpg in the */Timeseries plots* subfolder."
   ]
  },
  {
   "cell_type": "code",
   "execution_count": 15,
   "id": "labeled-weather",
   "metadata": {},
   "outputs": [
    {
     "data": {
      "image/png": "[encoded data removed]",
      "text/plain": [
       "<Figure size 576x216 with 1 Axes>"
      ]
     },
     "metadata": {
      "needs_background": "light"
     },
     "output_type": "display_data"
    },
    {
     "data": {
      "image/png": "[encoded data removed]",
      "text/plain": [
       "<Figure size 576x216 with 1 Axes>"
      ]
     },
     "metadata": {
      "needs_background": "light"
     },
     "output_type": "display_data"
    },
    {
     "data": {
      "image/png": "[encoded data removed]",
      "text/plain": [
       "<Figure size 576x216 with 1 Axes>"
      ]
     },
     "metadata": {
      "needs_background": "light"
     },
     "output_type": "display_data"
    },
    {
     "data": {
      "image/png": "[encoded data removed]",
      "text/plain": [
       "<Figure size 576x216 with 1 Axes>"
      ]
     },
     "metadata": {
      "needs_background": "light"
     },
     "output_type": "display_data"
    },
    {
     "data": {
      "image/png": "[encoded data removed]",
      "text/plain": [
       "<Figure size 576x216 with 1 Axes>"
      ]
     },
     "metadata": {
      "needs_background": "light"
     },
     "output_type": "display_data"
    }
   ],
   "source": [
    "# loop through each transect and save a plot of the cross-shore shoreline change along that transect\n",
    "for transect in settings['transects_load'].keys():\n",
    "    ts_plot_single(settings, sl_csv_tide, transect,            \n",
    "        # set savgol = True to plot 15 day moving average shoreline position\n",
    "        # Requires > 15 day shorleine timeseries range\n",
    "        savgol = False,\n",
    "        # set x_scale for x-axis labels ['days', 'months', 'years']\n",
    "        x_scale = 'years')"
   ]
  }
 ],
 "metadata": {
  "kernelspec": {
   "display_name": "Python 3",
   "language": "python",
   "name": "python3"
  },
  "language_info": {
   "codemirror_mode": {
    "name": "ipython",
    "version": 3
   },
   "file_extension": ".py",
   "mimetype": "text/x-python",
   "name": "python",
   "nbconvert_exporter": "python",
   "pygments_lexer": "ipython3",
   "version": "3.7.10"
  }
 },
 "nbformat": 4,
 "nbformat_minor": 5
}
